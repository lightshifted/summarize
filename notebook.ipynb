{
 "cells": [
  {
   "cell_type": "markdown",
   "id": "f69a0618",
   "metadata": {},
   "source": [
    "# GPT2 for Text Classification"
   ]
  },
  {
   "cell_type": "code",
   "execution_count": 11,
   "id": "51a15c97",
   "metadata": {},
   "outputs": [],
   "source": [
    "import torch\n",
    "from torch.utils.data import Dataset\n",
    "from torch.utils.data.dataloader import DataLoader\n",
    "from transformers import GPT2Tokenizer, GPT2Config, GPT2ForSequenceClassification\n",
    "\n",
    "set_seed(3407)\n",
    "\n",
    "device = torch.device('cuda' if torch.cuda.is_available() else 'cpu')"
   ]
  },
  {
   "cell_type": "code",
   "execution_count": 30,
   "id": "726800fd",
   "metadata": {},
   "outputs": [
    {
     "name": "stdout",
     "output_type": "stream",
     "text": [
      "Tue Sep 20 18:55:44 2022       \n",
      "+-----------------------------------------------------------------------------+\n",
      "| NVIDIA-SMI 512.15       Driver Version: 512.15       CUDA Version: 11.6     |\n",
      "|-------------------------------+----------------------+----------------------+\n",
      "| GPU  Name            TCC/WDDM | Bus-Id        Disp.A | Volatile Uncorr. ECC |\n",
      "| Fan  Temp  Perf  Pwr:Usage/Cap|         Memory-Usage | GPU-Util  Compute M. |\n",
      "|                               |                      |               MIG M. |\n",
      "|===============================+======================+======================|\n",
      "|   0  NVIDIA GeForce ... WDDM  | 00000000:02:00.0  On |                  N/A |\n",
      "|100%   75C    P2   334W / 350W |   4216MiB / 12288MiB |     55%      Default |\n",
      "|                               |                      |                  N/A |\n",
      "+-------------------------------+----------------------+----------------------+\n",
      "                                                                               \n",
      "+-----------------------------------------------------------------------------+\n",
      "| Processes:                                                                  |\n",
      "|  GPU   GI   CI        PID   Type   Process name                  GPU Memory |\n",
      "|        ID   ID                                                   Usage      |\n",
      "|=============================================================================|\n",
      "|    0   N/A  N/A      1320    C+G   ...ge\\Application\\msedge.exe    N/A      |\n",
      "|    0   N/A  N/A      4344    C+G   ...5n1h2txyewy\\SearchApp.exe    N/A      |\n",
      "|    0   N/A  N/A      6268    C+G   ...wekyb3d8bbwe\\Video.UI.exe    N/A      |\n",
      "|    0   N/A  N/A      6372    C+G   ...lPanel\\SystemSettings.exe    N/A      |\n",
      "|    0   N/A  N/A      9136    C+G   ...e\\PhoneExperienceHost.exe    N/A      |\n",
      "|    0   N/A  N/A      9736    C+G   ...y\\ShellExperienceHost.exe    N/A      |\n",
      "|    0   N/A  N/A      9912    C+G   ...8wekyb3d8bbwe\\GameBar.exe    N/A      |\n",
      "|    0   N/A  N/A     10892    C+G   ...5n1h2txyewy\\SearchApp.exe    N/A      |\n",
      "|    0   N/A  N/A     13340      C   C:\\Python38\\python.exe          N/A      |\n",
      "|    0   N/A  N/A     13556    C+G   ...8wekyb3d8bbwe\\Cortana.exe    N/A      |\n",
      "|    0   N/A  N/A     13632    C+G   ...cw5n1h2txyewy\\LockApp.exe    N/A      |\n",
      "|    0   N/A  N/A     13960    C+G   ...2txyewy\\TextInputHost.exe    N/A      |\n",
      "|    0   N/A  N/A     15116    C+G   C:\\WINDOWS\\System32\\dwm.exe     N/A      |\n",
      "|    0   N/A  N/A     16292    C+G   C:\\WINDOWS\\explorer.exe         N/A      |\n",
      "|    0   N/A  N/A     18972    C+G   ...bbwe\\Microsoft.Photos.exe    N/A      |\n",
      "|    0   N/A  N/A     19120    C+G   ...icrosoft VS Code\\Code.exe    N/A      |\n",
      "+-----------------------------------------------------------------------------+\n"
     ]
    }
   ],
   "source": [
    "# Let's first check our GPU's memory\n",
    "!nvidia-smi"
   ]
  },
  {
   "cell_type": "code",
   "execution_count": 17,
   "id": "b3515212",
   "metadata": {},
   "outputs": [
    {
     "name": "stdout",
     "output_type": "stream",
     "text": [
      "I think that students would benefit from learning at home,because they wont have to change and get up early in the morning to shower and do there hair. taking only classes helps them because at there ...\n"
     ]
    }
   ],
   "source": [
    "# Load dataset\n",
    "import pandas as pd\n",
    "data = pd.read_csv('data/train.csv')[:1955]\n",
    "text = data.full_text\n",
    "print(text[0][:200] + '...')"
   ]
  },
  {
   "cell_type": "code",
   "execution_count": 18,
   "id": "e7a65388",
   "metadata": {},
   "outputs": [
    {
     "name": "stdout",
     "output_type": "stream",
     "text": [
      "Num of unique chars:\n",
      " 89\n"
     ]
    }
   ],
   "source": [
    "# Get vocab size\n",
    "raw_text = ''.join(data['full_text'].values.tolist())\n",
    "print('Num of unique chars:\\n', len(set(raw_text)))\n",
    "del raw_text # to save memory\n",
    "del text"
   ]
  },
  {
   "cell_type": "code",
   "execution_count": 20,
   "id": "e388e98f",
   "metadata": {},
   "outputs": [
    {
     "name": "stdout",
     "output_type": "stream",
     "text": [
      "input_ids\n",
      " tensor([[50256, 50256, 50256,  ...,   220,   220,   220],\n",
      "        [50256, 50256, 50256,  ...,   661,   892,    13],\n",
      "        [50256, 50256, 50256,  ...,   393,  4568,    13],\n",
      "        [50256, 50256, 50256,  ..., 29340,    13,   220],\n",
      "        [50256, 50256, 50256,  ...,   220,   220,   220]])\n",
      "attention_mask\n",
      " tensor([[0, 0, 0,  ..., 1, 1, 1],\n",
      "        [0, 0, 0,  ..., 1, 1, 1],\n",
      "        [0, 0, 0,  ..., 1, 1, 1],\n",
      "        [0, 0, 0,  ..., 1, 1, 1],\n",
      "        [0, 0, 0,  ..., 1, 1, 1]])\n",
      "labels\n",
      " tensor([3.5000, 2.5000, 3.0000, 4.5000, 2.5000], dtype=torch.float64)\n"
     ]
    }
   ],
   "source": [
    "# Tokenization\n",
    "\n",
    "# Instantiate tokenizer and pass `gpt2` to the `from_pretrained` method \n",
    "tokenizer = GPT2Tokenizer.from_pretrained(\"gpt2\")\n",
    "\n",
    "# Select token to uses as `pad_token`\n",
    "tokenizer.pad_token = tokenizer.eos_token\n",
    "\n",
    "# Default to left padding\n",
    "tokenizer.padding_side = \"left\"\n",
    "\n",
    "# Process text\n",
    "inputs = tokenizer(list(data.full_text), padding='longest', truncation=True,\n",
    "                  return_tensors=\"pt\", max_length=tokenizer.model_max_length)\n",
    "\n",
    "# Update the inputs with the associated encoded labels \n",
    "inputs.update({'labels':torch.tensor(data.cohesion)})\n",
    "\n",
    "print(\"input_ids\\n\", inputs['input_ids'][:5])\n",
    "print(\"attention_mask\\n\", inputs['attention_mask'][:5])\n",
    "print(\"labels\\n\", inputs['labels'][:5])"
   ]
  },
  {
   "cell_type": "code",
   "execution_count": 21,
   "id": "c56df67d",
   "metadata": {},
   "outputs": [
    {
     "name": "stdout",
     "output_type": "stream",
     "text": [
      "torch.Size([1564, 1024]) torch.Size([1564])\n",
      "torch.Size([195, 1024]) torch.Size([195])\n",
      "torch.Size([196, 1024]) torch.Size([196])\n"
     ]
    }
   ],
   "source": [
    "# Create training, validation, and test sets\n",
    "\n",
    "n1 = int(0.8*len(inputs['input_ids']))\n",
    "n2 = int(0.9*len(inputs['input_ids']))\n",
    "         \n",
    "Xtr = inputs['input_ids'][:n1]\n",
    "Ytr = inputs['labels'][:n1]\n",
    "tr_mask = inputs['attention_mask'][:n1]\n",
    "\n",
    "Xdev = inputs['input_ids'][n1:n2]\n",
    "Ydev = inputs['labels'][n1:n2]\n",
    "dev_mask = inputs['attention_mask'][n1:n2]\n",
    "\n",
    "Xte = inputs['input_ids'][n2:]\n",
    "Yte = inputs['labels'][n2:]\n",
    "te_mask = inputs['attention_mask'][n2:]\n",
    "\n",
    "print(Xtr.shape, Ytr.shape)\n",
    "print(Xdev.shape, Ydev.shape)\n",
    "print(Xte.shape, Yte.shape)"
   ]
  },
  {
   "cell_type": "code",
   "execution_count": 22,
   "id": "92066a9a",
   "metadata": {},
   "outputs": [],
   "source": [
    "class DataLoads(Dataset):\n",
    "    \n",
    "    def __init__(self, X, Y, Mask):\n",
    "        self.x = X\n",
    "        self.y = Y\n",
    "        self.mask = Mask\n",
    "        \n",
    "    def __len__(self):\n",
    "        return len(self.x)\n",
    "    \n",
    "    def __getitem__(self, idx):\n",
    "        return {\n",
    "            'input_ids':self.x[idx],\n",
    "            'attention_mask':self.mask[idx],\n",
    "            'labels': self.y[idx]\n",
    "        }"
   ]
  },
  {
   "cell_type": "code",
   "execution_count": 23,
   "id": "46111d9d",
   "metadata": {},
   "outputs": [],
   "source": [
    "# Prepare data for input to transformer\n",
    "tr_loader = DataLoads(Xtr, Ytr, tr_mask)\n",
    "dev_loader = DataLoads(Xdev, Ydev, dev_mask)\n",
    "te_loader = DataLoads(Xte, Yte, te_mask)\n",
    "\n",
    "trainset = DataLoader(tr_loader, shuffle=True, batch_size=3)\n",
    "devset = DataLoader(dev_loader, shuffle=False, batch_size=3)\n",
    "teset = DataLoader(te_loader, shuffle=False, batch_size=3)"
   ]
  },
  {
   "cell_type": "code",
   "execution_count": 24,
   "id": "cdb83db9",
   "metadata": {},
   "outputs": [
    {
     "name": "stderr",
     "output_type": "stream",
     "text": [
      "Some weights of GPT2ForSequenceClassification were not initialized from the model checkpoint at gpt2 and are newly initialized: ['score.weight']\n",
      "You should probably TRAIN this model on a down-stream task to be able to use it for predictions and inference.\n"
     ]
    },
    {
     "name": "stdout",
     "output_type": "stream",
     "text": [
      "number of parameters: 124.45M\n",
      "Model loaded to cuda\n"
     ]
    }
   ],
   "source": [
    "# Instantiate configuration class to store config params for GTP2Model\n",
    "model_config = GPT2Config.from_pretrained(\"gpt2\", num_labels=9)\n",
    "\n",
    "# Get Huggingface model\n",
    "model = GPT2ForSequenceClassification.from_pretrained(\"gpt2\", config=model_config)\n",
    "\n",
    "# Fix model with padding token id\n",
    "model.config.pad_token_id = model.config.eos_token_id\n",
    "\n",
    "# Load model to defined device\n",
    "model.to(device)\n",
    "\n",
    "n_params = sum(p.numel() for p in model.parameters())\n",
    "print(\"number of parameters: %.2fM\" % (n_params/1e6,))\n",
    "\n",
    "print(\"Model loaded to\", device)"
   ]
  },
  {
   "cell_type": "code",
   "execution_count": 25,
   "id": "59e52c4b",
   "metadata": {},
   "outputs": [],
   "source": [
    "from transformers import AdamW, get_linear_schedule_with_warmup\n",
    "\n",
    "# Model parameters\n",
    "optimizer = torch.optim.AdamW(model.parameters(),\n",
    "                 lr = 2e-5,\n",
    "                 eps = 1e-8)\n",
    "\n",
    "\n",
    "# Training steps (num_batches * num_epochs)\n",
    "epochs = 4\n",
    "train_steps = len(trainset) * epochs\n",
    "\n",
    "# Learning rate scheduler\n",
    "scheduler = get_linear_schedule_with_warmup(optimizer,\n",
    "                                           num_warmup_steps = 0,\n",
    "                                           num_training_steps = train_steps)\n",
    "\n",
    "# Store the average loss after each epoch so we can plot them.\n",
    "all_loss = {'train_loss':[], 'val_loss':[]}\n",
    "all_acc = {'train_acc':[], 'val_acc':[]}"
   ]
  },
  {
   "cell_type": "code",
   "execution_count": 26,
   "id": "71d8440f",
   "metadata": {},
   "outputs": [],
   "source": [
    "# Training loop functions\n",
    "def train(dataloader, optimizer_, scheduler_, device_):\n",
    "\n",
    "    # Use global variable for model.\n",
    "    global model\n",
    "\n",
    "    # Tracking variables.\n",
    "    predictions_labels = []\n",
    "    true_labels = []\n",
    "    \n",
    "    # Total loss for this epoch.\n",
    "    total_loss = 0\n",
    "\n",
    "    # Put the model into training mode.\n",
    "    model.train()\n",
    "\n",
    "    # For each batch of training data...\n",
    "    for batch in tqdm(dataloader, total=len(dataloader)):\n",
    "\n",
    "        # Add original labels - use later for evaluation.\n",
    "        true_labels += batch['labels'].numpy().flatten().tolist()\n",
    "\n",
    "        # move batch to device\n",
    "        batch = {k:v.type(torch.long).to(device_) for k,v in batch.items()}\n",
    "\n",
    "        # Always clear any previously calculated gradients before performing a\n",
    "        # backward pass.\n",
    "        model.zero_grad()\n",
    "\n",
    "        # Perform a forward pass (evaluate the model on this training batch).\n",
    "        # This will return the loss (rather than the model output) because we\n",
    "        # have provided the `labels`.\n",
    "        # The documentation for this a bert model function is here: \n",
    "        # https://huggingface.co/transformers/v2.2.0/model_doc/bert.html#transformers.BertForSequenceClassification\n",
    "        outputs = model(**batch)\n",
    "\n",
    "        # The call to `model` always returns a tuple, so we need to pull the \n",
    "        # loss value out of the tuple along with the logits. We will use logits\n",
    "        # later to calculate training accuracy.\n",
    "        loss, logits = outputs[:2]\n",
    "\n",
    "        # Accumulate the training loss over all of the batches so that we can\n",
    "        # calculate the average loss at the end. `loss` is a Tensor containing a\n",
    "        # single value; the `.item()` function just returns the Python value \n",
    "        # from the tensor.\n",
    "        total_loss += loss.item()\n",
    "\n",
    "        # Perform a backward pass to calculate the gradients.\n",
    "        loss.backward()\n",
    "\n",
    "        # Clip the norm of the gradients to 1.0.\n",
    "        # This is to help prevent the \"exploding gradients\" problem.\n",
    "        torch.nn.utils.clip_grad_norm_(model.parameters(), 1.0)\n",
    "\n",
    "        # Update parameters and take a step using the computed gradient.\n",
    "        # The optimizer dictates the \"update rule\"--how the parameters are\n",
    "        # modified based on their gradients, the learning rate, etc.\n",
    "        optimizer_.step()\n",
    "\n",
    "        # Update the learning rate.\n",
    "        scheduler_.step()\n",
    "\n",
    "        # Move logits and labels to CPU\n",
    "        logits = logits.detach().cpu().numpy()\n",
    "\n",
    "        # Convert these logits to list of predicted labels values.\n",
    "        predictions_labels += logits.argmax(axis=-1).flatten().tolist()\n",
    "\n",
    "    # Calculate the average loss over the training data.\n",
    "    avg_epoch_loss = total_loss / len(dataloader)\n",
    "\n",
    "    # Return all true labels and prediction for future evaluations.\n",
    "    return true_labels, predictions_labels, avg_epoch_loss"
   ]
  },
  {
   "cell_type": "code",
   "execution_count": 27,
   "id": "59a1db66",
   "metadata": {},
   "outputs": [],
   "source": [
    "def validation(dataloader, device_):\n",
    "    \n",
    "    # Use global variable for model.\n",
    "    global model\n",
    "\n",
    "    # Tracking variables\n",
    "    predictions_labels = []\n",
    "    true_labels = []\n",
    "    #total loss for this epoch.\n",
    "    total_loss = 0\n",
    "\n",
    "    # Put the model in evaluation mode--the dropout layers behave differently\n",
    "    # during evaluation.\n",
    "    model.eval()\n",
    "\n",
    "    # Evaluate data for one epoch\n",
    "    for batch in tqdm(dataloader, total=len(dataloader)):\n",
    "\n",
    "        # add original labels\n",
    "        true_labels += batch['labels'].numpy().flatten().tolist()\n",
    "\n",
    "        # move batch to device\n",
    "        batch = {k:v.type(torch.long).to(device_) for k,v in batch.items()}\n",
    "\n",
    "        # Telling the model not to compute or store gradients, saving memory and\n",
    "        # speeding up validation\n",
    "        with torch.no_grad():        \n",
    "\n",
    "            # Forward pass, calculate logit predictions.\n",
    "            # This will return the logits rather than the loss because we have\n",
    "            # not provided labels.\n",
    "            # token_type_ids is the same as the \"segment ids\", which \n",
    "            # differentiates sentence 1 and 2 in 2-sentence tasks.\n",
    "            # The documentation for this `model` function is here: \n",
    "            # https://huggingface.co/transformers/v2.2.0/model_doc/bert.html#transformers.BertForSequenceClassification\n",
    "            outputs = model(**batch)\n",
    "\n",
    "            # The call to `model` always returns a tuple, so we need to pull the \n",
    "            # loss value out of the tuple along with the logits. We will use logits\n",
    "            # later to to calculate training accuracy.\n",
    "            loss, logits = outputs[:2]\n",
    "\n",
    "            # Move logits and labels to CPU\n",
    "            logits = logits.detach().cpu().numpy()\n",
    "\n",
    "            # Accumulate the training loss over all of the batches so that we can\n",
    "            # calculate the average loss at the end. `loss` is a Tensor containing a\n",
    "            # single value; the `.item()` function just returns the Python value \n",
    "            # from the tensor.\n",
    "            total_loss += loss.item()\n",
    "\n",
    "            # get predicitons to list\n",
    "            predict_content = logits.argmax(axis=-1).flatten().tolist()\n",
    "\n",
    "            # update list\n",
    "            predictions_labels += predict_content\n",
    "\n",
    "    # Calculate the average loss over the training data.\n",
    "    avg_epoch_loss = total_loss / len(dataloader)\n",
    "\n",
    "    # Return all true labels and prediciton for future evaluations.\n",
    "    return true_labels, predictions_labels, avg_epoch_loss"
   ]
  },
  {
   "cell_type": "code",
   "execution_count": 28,
   "id": "5a7c6ba1",
   "metadata": {},
   "outputs": [
    {
     "data": {
      "application/vnd.jupyter.widget-view+json": {
       "model_id": "d3fb1fc75ce94f7abe1c350ab2381f02",
       "version_major": 2,
       "version_minor": 0
      },
      "text/plain": [
       "  0%|          | 0/4 [00:00<?, ?it/s]"
      ]
     },
     "metadata": {},
     "output_type": "display_data"
    },
    {
     "name": "stdout",
     "output_type": "stream",
     "text": [
      "Training on batches...\n"
     ]
    },
    {
     "data": {
      "application/vnd.jupyter.widget-view+json": {
       "model_id": "8f0d165d97c345f0838b7f3adfd80b2c",
       "version_major": 2,
       "version_minor": 0
      },
      "text/plain": [
       "  0%|          | 0/522 [00:00<?, ?it/s]"
      ]
     },
     "metadata": {},
     "output_type": "display_data"
    },
    {
     "data": {
      "application/vnd.jupyter.widget-view+json": {
       "model_id": "210f07f93c204a5b9ac81e2bafeb7ae3",
       "version_major": 2,
       "version_minor": 0
      },
      "text/plain": [
       "  0%|          | 0/65 [00:00<?, ?it/s]"
      ]
     },
     "metadata": {},
     "output_type": "display_data"
    },
    {
     "name": "stdout",
     "output_type": "stream",
     "text": [
      "train_loss: %.5f - val_loss: %.5f (1.2362767130536139, 1.0320717790952096)\n",
      "train loss [1.2362767130536139]\n",
      "val loss [1.0320717790952096]\n",
      "Training on batches...\n"
     ]
    },
    {
     "data": {
      "application/vnd.jupyter.widget-view+json": {
       "model_id": "4bd8cf3972684ab4b721e4f080fad439",
       "version_major": 2,
       "version_minor": 0
      },
      "text/plain": [
       "  0%|          | 0/522 [00:00<?, ?it/s]"
      ]
     },
     "metadata": {},
     "output_type": "display_data"
    },
    {
     "data": {
      "application/vnd.jupyter.widget-view+json": {
       "model_id": "1b410bdd1afe446eb6bed10e57f0e99f",
       "version_major": 2,
       "version_minor": 0
      },
      "text/plain": [
       "  0%|          | 0/65 [00:00<?, ?it/s]"
      ]
     },
     "metadata": {},
     "output_type": "display_data"
    },
    {
     "name": "stdout",
     "output_type": "stream",
     "text": [
      "train_loss: %.5f - val_loss: %.5f (1.079670857481116, 0.9747170241979453)\n",
      "train loss [1.2362767130536139, 1.079670857481116]\n",
      "val loss [1.0320717790952096, 0.9747170241979453]\n",
      "Training on batches...\n"
     ]
    },
    {
     "data": {
      "application/vnd.jupyter.widget-view+json": {
       "model_id": "ab57f8091b1d443da4877656cb40b171",
       "version_major": 2,
       "version_minor": 0
      },
      "text/plain": [
       "  0%|          | 0/522 [00:00<?, ?it/s]"
      ]
     },
     "metadata": {},
     "output_type": "display_data"
    },
    {
     "data": {
      "application/vnd.jupyter.widget-view+json": {
       "model_id": "a3b7c5d573224849996b668f8d24f804",
       "version_major": 2,
       "version_minor": 0
      },
      "text/plain": [
       "  0%|          | 0/65 [00:00<?, ?it/s]"
      ]
     },
     "metadata": {},
     "output_type": "display_data"
    },
    {
     "name": "stdout",
     "output_type": "stream",
     "text": [
      "train_loss: %.5f - val_loss: %.5f (1.0269048695820044, 0.9537950552426852)\n",
      "train loss [1.2362767130536139, 1.079670857481116, 1.0269048695820044]\n",
      "val loss [1.0320717790952096, 0.9747170241979453, 0.9537950552426852]\n",
      "Training on batches...\n"
     ]
    },
    {
     "data": {
      "application/vnd.jupyter.widget-view+json": {
       "model_id": "80ef3455098b4130b7fc756ce87a82ca",
       "version_major": 2,
       "version_minor": 0
      },
      "text/plain": [
       "  0%|          | 0/522 [00:00<?, ?it/s]"
      ]
     },
     "metadata": {},
     "output_type": "display_data"
    },
    {
     "data": {
      "application/vnd.jupyter.widget-view+json": {
       "model_id": "7af78327bc114a9780e6a6aafa5f1f85",
       "version_major": 2,
       "version_minor": 0
      },
      "text/plain": [
       "  0%|          | 0/65 [00:00<?, ?it/s]"
      ]
     },
     "metadata": {},
     "output_type": "display_data"
    },
    {
     "name": "stdout",
     "output_type": "stream",
     "text": [
      "train_loss: %.5f - val_loss: %.5f (0.9464822969617058, 0.9867872591202076)\n",
      "train loss [1.2362767130536139, 1.079670857481116, 1.0269048695820044, 0.9464822969617058]\n",
      "val loss [1.0320717790952096, 0.9747170241979453, 0.9537950552426852, 0.9867872591202076]\n"
     ]
    }
   ],
   "source": [
    "# Training loop\n",
    "from tqdm.notebook import tqdm\n",
    "from sklearn.metrics import accuracy_score\n",
    "\n",
    "for epoch in tqdm(range(epochs)):\n",
    "    print(\"Training on batches...\")\n",
    "    train_labels, train_predict, train_loss = train(trainset, optimizer, scheduler, device)\n",
    "#     train_acc = accuracy_score(train_labels, train_predict)\n",
    "    \n",
    "    dev_labels, dev_predict, dev_loss = validation(devset, device)\n",
    "#     dev_acc = accuracy_score(dev_labels, dev_predict)\n",
    "\n",
    "    print(\"train_loss: %.5f - val_loss: %.5f\", (train_loss, dev_loss))\n",
    "#     print(\"  train_loss: %.5f - val_loss: %.5f - train_acc: %.5f - valid_acc: %.5f\"%\\\n",
    "#           (train_loss, dev_loss, train_acc, dev_acc))\n",
    "    \n",
    "    # Store the loss value for plotting the learning curve.\n",
    "    all_loss['train_loss'].append(train_loss)\n",
    "    all_loss['val_loss'].append(dev_loss)\n",
    "#     all_acc['train_acc'].append(train_acc)\n",
    "#     all_acc['val_acc'].append(dev_acc)\n",
    "    \n",
    "    print(f\"train loss {all_loss['train_loss']}\")\n",
    "    print(f\"val loss {all_loss['val_loss']}\")\n",
    "#     print(f\"train acc {all_loss['train_acc']}\")\n",
    "#     print(f\"val acc {all_loss['val_acc']}\")"
   ]
  },
  {
   "cell_type": "code",
   "execution_count": 29,
   "id": "b037cae3",
   "metadata": {},
   "outputs": [],
   "source": [
    "torch.cuda.empty_cache()"
   ]
  },
  {
   "cell_type": "code",
   "execution_count": 31,
   "id": "7557d35c",
   "metadata": {},
   "outputs": [],
   "source": [
    "# Save the model's state dictionary\n",
    "PATH =r\"C:\\Users\\Hedronstone\\Desktop\\miniGPT2\\state_dicts\\cohesion.pt\"\n",
    "torch.save(model.state_dict(), PATH)"
   ]
  },
  {
   "cell_type": "code",
   "execution_count": null,
   "id": "17c60b65",
   "metadata": {},
   "outputs": [],
   "source": []
  }
 ],
 "metadata": {
  "kernelspec": {
   "display_name": "Python 3 (ipykernel)",
   "language": "python",
   "name": "python3"
  },
  "language_info": {
   "codemirror_mode": {
    "name": "ipython",
    "version": 3
   },
   "file_extension": ".py",
   "mimetype": "text/x-python",
   "name": "python",
   "nbconvert_exporter": "python",
   "pygments_lexer": "ipython3",
   "version": "3.8.5"
  }
 },
 "nbformat": 4,
 "nbformat_minor": 5
}
